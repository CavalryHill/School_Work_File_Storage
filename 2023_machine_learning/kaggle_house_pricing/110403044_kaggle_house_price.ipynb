{
  "nbformat": 4,
  "nbformat_minor": 0,
  "metadata": {
    "colab": {
      "provenance": []
    },
    "kernelspec": {
      "name": "python3",
      "display_name": "Python 3"
    },
    "language_info": {
      "name": "python"
    }
  },
  "cells": [
    {
      "cell_type": "markdown",
      "source": [
        "本檔案參加的是 \"House Prices - Advanced Regression Techniques\"，主要是因為別場競賽所需的 Time Forecast 做不出才降低難度，再者本競賽所需考慮的屬性較多而較有挑戰性。\n",
        "訓練中要扣除 Id 與 SalePrice，表示需處理 79 個屬性欄，且有些欄位資料是全字串或參雜 NA，最後須推算出 test.csv 各房的房價。", 
        "\n", 
        "colab 連結: https://colab.research.google.com/drive/1uCfQ3al4WCizDQg7qkemid8N-txfWFFt?usp=sharing"
        "\n",
        "---\n"
      ],
      "metadata": {
        "id": "hdNsRjoFbmPC"
      }
    },
    {
      "cell_type": "code",
      "execution_count": null,
      "metadata": {
        "id": "G_qfQig8VKSW"
      },
      "outputs": [],
      "source": [
        "import pandas as pd; pd.set_option('display.max_rows', None); import numpy as np; \n",
        "import matplotlib as mpl; import joblib; import datetime; "
      ]
    },
    {
      "cell_type": "code",
      "source": [
        "from sklearn.model_selection import train_test_split as tts; \n",
        "from sklearn.linear_model import LinearRegression; "
      ],
      "metadata": {
        "id": "Z71xUiI1QEdD"
      },
      "execution_count": null,
      "outputs": []
    },
    {
      "cell_type": "code",
      "source": [
        "# === Functions ===\n",
        "  # Generating Tags\n",
        "def gen_tag(df, col):\n",
        "  dfarr=(df.groupby([col])[col].count().reset_index(name='count').sort_values(['count'], ascending=False).drop(['count'], axis=1).to_numpy().flatten()); tag_col=np.array([]); \n",
        "\n",
        "  for index in range(df.shape[0]):\n",
        "    if df[col][index] in dfarr:\n",
        "      tag_col=np.append(tag_col, np.where(dfarr==df[col][index])[0][0]+1);\n",
        "    else: \n",
        "      tag_col=np.append(tag_col, 0); # replace NA\n",
        "\n",
        "  df[col]=tag_col; return df[col]; \n",
        "def gen_date(): \n",
        "  return datetime.datetime.now().strftime('%Y%m%d'); \n",
        "\n",
        "  # RMSE Tester\n",
        "def rmse_test(nparray):\n",
        "  rmse=np.sqrt(nparray); print(\"RMSE average: \", np.mean(rmse)); \n",
        "\n",
        "  # Processing Data\n",
        "def pro_data_1(df):\n",
        "  df=df.apply(pd.to_numeric, errors='coerce').fillna(0); return df; \n",
        "def pro_data_2(df):\n",
        "\n",
        "  \"\"\"\n",
        "  # Awkward Me as #\n",
        "\n",
        "  df['Condition1']=df['Condition1'].replace({'Norm':1, 'Feedr':2, 'Artery':3, 'RRAn':4, 'PosN':5, 'RRAe':6, 'PosA':7, 'RRNn':8, 'RRNe':9});\n",
        "  df['Condition2']=df['Condition2'].replace({'Norm':1, 'Feedr':2, 'Artery':3, 'PosN':4, 'RRNn':5, 'RRAn':6, 'RRAe':7, 'PosA':8});\n",
        "  print(df.groupby(['Condition1'])['Condition1'].count()); \n",
        "  print(df.groupby(['Condition2'])['Condition2'].count()); \n",
        "  \"\"\"\n",
        "\n",
        "  gen_tag(df, 'MSZoning');\n",
        "  gen_tag(df, 'Utilities');\n",
        "  gen_tag(df, 'LandContour');\n",
        "  gen_tag(df, 'LotConfig');\n",
        "  gen_tag(df, 'LandSlope');\n",
        "  gen_tag(df, 'Condition1');\n",
        "  gen_tag(df, 'Condition2');\n",
        "  gen_tag(df, 'BldgType');\n",
        "  gen_tag(df, 'HouseStyle');\n",
        "  gen_tag(df, 'RoofStyle');\n",
        "  gen_tag(df, 'RoofMatl');\n",
        "  gen_tag(df, 'Foundation');\n",
        "  gen_tag(df, 'BsmtQual');\n",
        "  gen_tag(df, 'BsmtCond');\n",
        "  gen_tag(df, 'BsmtExposure');\n",
        "  gen_tag(df, 'BsmtFinType1');\n",
        "  gen_tag(df, 'BsmtFinType2');\n",
        "  gen_tag(df, 'Heating');\n",
        "  gen_tag(df, 'HeatingQC');\n",
        "  gen_tag(df, 'CentralAir');\n",
        "  gen_tag(df, 'Electrical');\n",
        "  gen_tag(df, 'KitchenQual');\n",
        "  gen_tag(df, 'Functional');\n",
        "  gen_tag(df, 'FireplaceQu');\n",
        "  gen_tag(df, 'GarageType');\n",
        "  gen_tag(df, 'GarageFinish');\n",
        "  gen_tag(df, 'GarageQual');\n",
        "  gen_tag(df, 'GarageCond');\n",
        "  gen_tag(df, 'PavedDrive');\n",
        "  gen_tag(df, 'PoolQC');\n",
        "  gen_tag(df, 'Fence');\n",
        "  gen_tag(df, 'MiscFeature');\n",
        "  gen_tag(df, 'SaleType');\n",
        "  gen_tag(df, 'SaleCondition');\n",
        "\n",
        "  return df; \n",
        "def pro_data_3(df):\n",
        "  df=df.apply(pd.to_numeric, errors='coerce'); del_cnt=0; \n",
        "\n",
        "  for col_cnt in range(len(df.columns)): \n",
        "    if df[df.columns[col_cnt-del_cnt]].isnull().sum()==df.shape[0]: # all NULL\n",
        "      df=df.drop(df.columns[col_cnt-del_cnt], axis=1); del_cnt+=1; \n",
        "  \n",
        "  df=df.fillna(0); # few NULL\n",
        "\n",
        "  return df; \n",
        "\n",
        "  # Train Model\n",
        "def model_training():\n",
        "  df_train=pd.read_csv('https://tinyurl.com/bdek47r6'); \n",
        "  \n",
        "  df_train=pro_data_1(df_train); \n",
        "  # df_train=pro_data_2(df_train); \n",
        "  # df_train=pro_data_3(df_train); \n",
        "\n",
        "  X=df_train.drop(['SalePrice', 'Id'], axis=1); y=df_train['SalePrice']; # turn all string to NA and replace with 0\n",
        "  \"\"\"\n",
        "  #1 X_train, X_test, y_train, y_test=tts(X, y, test_size=0.25, random_state=50); - 418 0.198 \n",
        "  #2 X_train, X_test, y_train, y_test=tts(X, y, test_size=1, random_state=146*5); - 442 0.218 \n",
        "  #3 X_train, X_test, y_train, y_test=tts(X, y, test_size=0.1, random_state=50); - 418 0.193 \n",
        "  #4 X_train, X_test, y_train, y_test=tts(X, y, test_size=0.1, random_state=146*5); - 418 0.330 \n",
        "  #5 X_train, X_test, y_train, y_test=tts(X, y, test_size=1, random_state=50); - 489 0.225 \n",
        "  #6 X_train, X_test, y_train, y_test=tts(X, y, test_size=1/1460, random_state=50); - 489 0.225 \n",
        "  #7 X_train, X_test, y_train, y_test=tts(X, y, test_size=0.1, random_state=0); - 413 0.198  \n",
        "  #8 X_train, X_test, y_train, y_test=tts(X, y, test_size=0.25, random_state=0); - 418 0.204 \n",
        "  #9 X_train, X_test, y_train, y_test=tts(X, y, test_size=0.25, random_state=42); - 409 p\n",
        "  #10 X_train, X_test, y_train, y_test=tts(X, y, test_size=0.25, random_state=21); - 411 p\n",
        "  #11 X_train, X_test, y_train, y_test=tts(X, y, test_size=0.1, random_state=42); - 411 p\n",
        "  #12 X_train, X_test, y_train, y_test=tts(X, y, test_size=0.1, random_state=21); - 415 p\n",
        "  #13 X_train, X_test, y_train, y_test=tts(X, y, test_size=0.01, random_state=42); - 396 p\n",
        "  #16 X_train, X_test, y_train, y_test=tts(X, y, test_size=0.01, random_state=0); - 413 p\n",
        "  #14 X_train, X_test, y_train, y_test=tts(X, y, test_size=0.001, random_state=42); - 477 p\n",
        "  #15 X_train, X_test, y_train, y_test=tts(X, y, test_size=0.005, random_state=42); - 425 p\n",
        "  #16 X_train, X_test, y_train, y_test=tts(X, y, test_size=0.00875, random_state=42); #- 389 0.203\n",
        "  #17 X_train, X_test, y_train, y_test=tts(X, y, test_size=0.1, random_state=42); #- 411\n",
        "  \"\"\"\n",
        "  X_train, X_test, y_train, y_test=tts(X, y, test_size=0.1, random_state=50);\n",
        "  \n",
        "  global lrgs; lrgs=LinearRegression(); lrgs.fit(X_train, y_train); predict_train=lrgs.predict(X_test); rmse_test(predict_train); \n",
        "  \n",
        "  joblib.dump(lrgs, 'House-Price-LR-'+gen_date()+'.pkl', compress=3); \n",
        "\n",
        "  # Run Test Data\n",
        "def for_submission():\n",
        "  model_pretrained=joblib.load('House-Price-LR-'+gen_date()+'.pkl'); df_test=pd.read_csv('https://tinyurl.com/yncdt8a8'); \n",
        "  \n",
        "  df_test=pro_data_1(df_test); \n",
        "  # df_test=pro_data_2(df_test); \n",
        "  # df_test=pro_data_3(df_test); \n",
        "\n",
        "  df_idli=df_test['Id']; # keep id-list for later\n",
        "  df_test=df_test.drop(['Id'], axis=1).apply(pd.to_numeric, errors='coerce').fillna(0); \n",
        "\n",
        "  predict_testdata=model_pretrained.predict(df_test); \n",
        "  \n",
        "  submission=pd.DataFrame(columns=['Id', 'SalePrice']); \n",
        "  submission['Id']=np.array(df_idli); submission['SalePrice']=predict_testdata;\n",
        "  submission.to_csv('for_submission_'+gen_date()+'.csv', index=False); "
      ],
      "metadata": {
        "id": "xmUvdyB3QYtT"
      },
      "execution_count": null,
      "outputs": []
    },
    {
      "cell_type": "code",
      "source": [
        "# === EXE Zone ==="
      ],
      "metadata": {
        "id": "ZGpufLLu5XON"
      },
      "execution_count": null,
      "outputs": []
    },
    {
      "cell_type": "code",
      "source": [
        "model_training(); "
      ],
      "metadata": {
        "id": "Zr_RZgKiY9ku"
      },
      "execution_count": null,
      "outputs": []
    },
    {
      "cell_type": "code",
      "source": [
        "for_submission(); "
      ],
      "metadata": {
        "id": "XW6UMi3Vkgxs"
      },
      "execution_count": null,
      "outputs": []
    },
    {
      "cell_type": "markdown",
      "source": [
        "\n",
        "> 測試階段 (pro_data_1)\n",
        "\n",
        "首先本該確認各屬性與價格的關聯性，但礙於有 79 種屬性影響，也不清楚各欄位什麼條件將提高房價。\n",
        "\n",
        "我就沒特別作圖，又由於 Linear Regression 中無法應對 str，因此我故意以 pandas.to_numeric 將「字串數值」改成 NA 再全部補 0。\n",
        "\n",
        "`* 比較接近上課實作的手續`\n",
        "\n",
        "`* 沒 drop 任何一欄，以「Utilities」為例，雖然有 1 個例外值，但我認為仍有其影響`\n",
        "\n",
        "\n",
        "> 給予標籤 (pro_data_2)\n",
        "\n",
        "基本的能執行後，我嘗試將「字串數值」照出現率以降冪排序的方式給予分數，卽越稀少的會引響更深，而 NA 給予最小值 0。\n",
        "\n",
        "施作期間不知 pandas.DataFrame.to_numpy 跟 numpy.where 回傳的是 2d-array 耗了些時間，但最終成績反而比測試時還慘。\n",
        "\n",
        "再來我試過將降冪排序改成升冪排序，卽越常出現的越容易被偵測，成績卻神秘的達到 6.06，檢查發現訓練結果有不少負值，但想了整晚依舊沒任後頭緒。\n",
        "\n",
        "`* 猜測因為回歸直線的圖形限制，沒法像訓練「圖像辨識」一樣貼標籤，要準備段考沒時間弄其他 sci-kit 套件`\n",
        "\n",
        "> Test-Size 與 Random-State\n",
        "\n",
        "既然給予標籤的方法失敗了，我試著更改 train_test_split 的條件，某一天就盲目的憑運氣測。\n",
        "\n",
        "後來發現有 RMSE (均方根誤差)，重新計算過之前測的條件，與成績確實有關連，但就在我測試出 RMSE 的最小值時，可能因為 test-size 太小，成績卻變的更差了。\n",
        "\n",
        "話說 random-state 是個很奇妙的條件，在取所有資料的情況下 (test-size=1)，取樣不重複的情況下反而成績更低，能想像成訓練資料不夠，但太高也不行就令人納悶，該不會漏了那些資料吧？\n",
        "\n",
        "`* 兩屬性皆會影響 RMSE，但微調的情況下似乎不會影響太深`\n",
        "\n",
        "`* 回頭看課程投影片，更納悶為何兩個示範的數值互不相同`\n",
        "\n",
        "> 拋棄字串 (pro_data_3)\n",
        "\n",
        "突發奇想下，我將所有純字串的欄位去掉，事後再把混雜的 NA 值補 0。\n",
        "\n",
        "最後卻有點尷尬，不僅成績沒變，甚至連生成的結果都跟測試階段的一模一樣。\n",
        "\n",
        "`* 數值 0 在 LinearRegression 好像沒影響？`\n",
        "\n",
        "`# print(pandas.DataFrame.drop([col], axis=1, inpalce=True))會是 NULL`\n",
        "\n",
        "`# 上述的 axis 其實是 index or columns，不是中文翻譯的軸`\n"
      ],
      "metadata": {
        "id": "U5qOaSVufMrh"
      }
    },
    {
      "cell_type": "markdown",
      "source": [
        "---\n",
        "最後名次以 0.19317 卡在 3579/4545，我暫時只想到以下可能改善成績的方式: \n",
        "\n",
        "`使用因為還不熟悉而放棄的 pandas.get_dummies()`\n",
        "\n",
        "`找到 scikit-learn 中能處理字串標籤的模型`\n",
        "\n"
      ],
      "metadata": {
        "id": "bvQ7H3YazYgj"
      }
    },
    {
      "cell_type": "markdown",
      "source": [
        "---\n",
        "\n",
        "> 參考資料\n",
        "\n",
        "`pandas DataFrame official reference` \n",
        "\n",
        "https://pandas.pydata.org/docs/reference/frame.html\n",
        "\n",
        "`在 gen_tag 幫 groupby() 的 count 加上 header`\n",
        "\n",
        "https://stackoverflow.com/questions/40454030/count-and-sort-with-pandas\n",
        "\n",
        "`從 to_numerice(DataFrame) 改成 df.apply(pd.to_numeric, errors='coerce')` \n",
        "\n",
        "https://stackoverflow.com/questions/42719749/pandas-convert-string-to-int\n",
        "\n",
        "`df=df.drop(df.columns[col_cnt], axis=1) in pro_data_3` \n",
        "\n",
        "https://stackoverflow.com/questions/20297317/python-dataframe-pandas-drop-column-using-int\n",
        "\n",
        "`RMSE + Test-Size + Random-State`\n",
        "\n",
        "https://towardsdatascience.com/why-do-we-set-a-random-state-in-machine-learning-models-bb2dc68d8431\n",
        "\n"
      ],
      "metadata": {
        "id": "CmYKYByD27pL"
      }
    },
    {
      "cell_type": "markdown",
      "source": [
        "---\n",
        "資管2B　110403044　周炯辰　`Apr. 14, 2023`"
      ],
      "metadata": {
        "id": "A0MgbDc_7Klk"
      }
    }
  ]
}
